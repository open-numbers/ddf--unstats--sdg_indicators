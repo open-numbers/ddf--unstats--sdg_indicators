{
 "cells": [
  {
   "cell_type": "code",
   "execution_count": 1,
   "metadata": {},
   "outputs": [
    {
     "name": "stdout",
     "output_type": "stream",
     "text": [
      "Wed Oct  3 18:15:36 CST 2018\r\n"
     ]
    }
   ],
   "source": [
    "!date"
   ]
  },
  {
   "cell_type": "code",
   "execution_count": 1,
   "metadata": {},
   "outputs": [
    {
     "name": "stderr",
     "output_type": "stream",
     "text": [
      "/Users/semio/.pyenv/versions/3.6.2/lib/python3.6/importlib/_bootstrap.py:205: RuntimeWarning: numpy.dtype size changed, may indicate binary incompatibility. Expected 96, got 88\n",
      "  return f(*args, **kwds)\n"
     ]
    }
   ],
   "source": [
    "import os\n",
    "import os.path as osp\n",
    "\n",
    "import requests as req\n",
    "import pandas as pd"
   ]
  },
  {
   "cell_type": "code",
   "execution_count": 2,
   "metadata": {},
   "outputs": [],
   "source": [
    "from urllib.parse import urljoin"
   ]
  },
  {
   "cell_type": "code",
   "execution_count": 3,
   "metadata": {},
   "outputs": [],
   "source": [
    "from pprint import pprint"
   ]
  },
  {
   "cell_type": "code",
   "execution_count": 4,
   "metadata": {},
   "outputs": [],
   "source": [
    "from io import BytesIO, StringIO"
   ]
  },
  {
   "cell_type": "code",
   "execution_count": 5,
   "metadata": {},
   "outputs": [],
   "source": [
    "import numpy as np"
   ]
  },
  {
   "cell_type": "code",
   "execution_count": 6,
   "metadata": {},
   "outputs": [],
   "source": [
    "np.random.seed(999)"
   ]
  },
  {
   "cell_type": "code",
   "execution_count": null,
   "metadata": {},
   "outputs": [],
   "source": []
  },
  {
   "cell_type": "code",
   "execution_count": 7,
   "metadata": {},
   "outputs": [],
   "source": [
    "def api_path(api_base, *args):\n",
    "    res = api_base\n",
    "    for arg in args:\n",
    "        if arg.startswith('/'):\n",
    "            res = osp.join(res, arg[1:])\n",
    "        else:\n",
    "            res = osp.join(res, arg)\n",
    "    return res"
   ]
  },
  {
   "cell_type": "code",
   "execution_count": 8,
   "metadata": {},
   "outputs": [],
   "source": [
    "api_base =  \"https://unstats.un.org\""
   ]
  },
  {
   "cell_type": "code",
   "execution_count": 9,
   "metadata": {},
   "outputs": [
    {
     "data": {
      "text/plain": [
       "'https://unstats.un.org/SDGAPI/v1/sdg/Series/List'"
      ]
     },
     "execution_count": 9,
     "metadata": {},
     "output_type": "execute_result"
    }
   ],
   "source": [
    "api_path(api_base, \"/SDGAPI\", \"/v1/sdg/Series/List\")"
   ]
  },
  {
   "cell_type": "code",
   "execution_count": 10,
   "metadata": {},
   "outputs": [],
   "source": [
    "j = req.get(api_path(api_base, \"/SDGAPI\", \"/v1/sdg/Series/List\"), params={'allreleases': False}).json()"
   ]
  },
  {
   "cell_type": "code",
   "execution_count": 13,
   "metadata": {},
   "outputs": [
    {
     "data": {
      "text/plain": [
       "355"
      ]
     },
     "execution_count": 13,
     "metadata": {},
     "output_type": "execute_result"
    }
   ],
   "source": [
    "len(j)"
   ]
  },
  {
   "cell_type": "code",
   "execution_count": 14,
   "metadata": {},
   "outputs": [],
   "source": [
    "_is = np.random.randint(0, len(j), size=10)"
   ]
  },
  {
   "cell_type": "code",
   "execution_count": 15,
   "metadata": {
    "scrolled": true
   },
   "outputs": [
    {
     "name": "stdout",
     "output_type": "stream",
     "text": [
      "{'code': 'EN_WBE_NDWTL',\n",
      " 'description': 'Nationally derived extent of wetlands (square kilometres)',\n",
      " 'goal': ['6'],\n",
      " 'indicator': ['6.6.1'],\n",
      " 'release': '2018.Q4.G.01',\n",
      " 'target': ['6.6'],\n",
      " 'uri': '/v1/sdg/Series/EN_WBE_NDWTL'}\n",
      "\n",
      "{'code': 'SI_COV_DISAB',\n",
      " 'description': 'Proportion of population with severe disabilities receiving '\n",
      "                'disability cash benefit (%)',\n",
      " 'goal': ['1'],\n",
      " 'indicator': ['1.3.1'],\n",
      " 'release': '2018.Q4.G.01',\n",
      " 'target': ['1.3'],\n",
      " 'uri': '/v1/sdg/Series/SI_COV_DISAB'}\n",
      "\n",
      "{'code': 'ER_PTD_MOTN',\n",
      " 'description': 'Average proportion of Mountain Key Biodiversity Areas (KBAs) '\n",
      "                'covered by protected areas (%)',\n",
      " 'goal': ['15'],\n",
      " 'indicator': ['15.4.1'],\n",
      " 'release': '2018.Q4.G.01',\n",
      " 'target': ['15.4'],\n",
      " 'uri': '/v1/sdg/Series/ER_PTD_MOTN'}\n",
      "\n",
      "{'code': 'VC_VAW_PHYPYV',\n",
      " 'description': 'Proportion of children aged 1-14 years who experienced '\n",
      "                'physical punishment and/or psychological aggression by '\n",
      "                'caregivers in last month (% of children aged 1-14 years)',\n",
      " 'goal': ['16'],\n",
      " 'indicator': ['16.2.1'],\n",
      " 'release': '2018.Q4.G.01',\n",
      " 'target': ['16.2'],\n",
      " 'uri': '/v1/sdg/Series/VC_VAW_PHYPYV'}\n",
      "\n",
      "{'code': 'ER_H2O_FISHOVEXP',\n",
      " 'description': 'Proportion of fish stocks that are overexploited (%)',\n",
      " 'goal': ['14'],\n",
      " 'indicator': ['14.4.1'],\n",
      " 'release': '2018.Q4.G.01',\n",
      " 'target': ['14.4'],\n",
      " 'uri': '/v1/sdg/Series/ER_H2O_FISHOVEXP'}\n",
      "\n",
      "{'code': 'ER_GRF_PLNTSTOR',\n",
      " 'description': 'Plant breeds for which sufficient genetic resources are '\n",
      "                'stored (number)',\n",
      " 'goal': ['2'],\n",
      " 'indicator': ['2.5.1'],\n",
      " 'release': '2018.Q4.G.01',\n",
      " 'target': ['2.5'],\n",
      " 'uri': '/v1/sdg/Series/ER_GRF_PLNTSTOR'}\n",
      "\n",
      "{'code': 'SH_STA_OVRWGTN',\n",
      " 'description': 'Children moderately or severely overweight (number)',\n",
      " 'goal': ['2'],\n",
      " 'indicator': ['2.2.2'],\n",
      " 'release': '2018.Q4.G.01',\n",
      " 'target': ['2.2'],\n",
      " 'uri': '/v1/sdg/Series/SH_STA_OVRWGTN'}\n",
      "\n",
      "{'code': 'SG_STT_NSDSIMPL',\n",
      " 'description': 'Countries with national statistical plans that are under '\n",
      "                'implementation (1 = YES; 0 = NO)',\n",
      " 'goal': ['17'],\n",
      " 'indicator': ['17.18.3'],\n",
      " 'release': '2018.Q4.G.01',\n",
      " 'target': ['17.18'],\n",
      " 'uri': '/v1/sdg/Series/SG_STT_NSDSIMPL'}\n",
      "\n",
      "{'code': 'ER_UNK_LBRED',\n",
      " 'description': 'Proportion of local breeds classified as being at unknown '\n",
      "                'level of risk of extinction (%)',\n",
      " 'goal': ['2'],\n",
      " 'indicator': ['2.5.2'],\n",
      " 'release': '2018.Q4.G.01',\n",
      " 'target': ['2.5'],\n",
      " 'uri': '/v1/sdg/Series/ER_UNK_LBRED'}\n",
      "\n",
      "{'code': 'IS_TRP_MAILTKM',\n",
      " 'description': 'Mail volume, by mode of transport (tonne kilometres)',\n",
      " 'goal': ['9'],\n",
      " 'indicator': ['9.1.2'],\n",
      " 'release': '2018.Q4.G.01',\n",
      " 'target': ['9.1'],\n",
      " 'uri': '/v1/sdg/Series/IS_TRP_MAILTKM'}\n",
      "\n"
     ]
    }
   ],
   "source": [
    "for i in _is:\n",
    "    pprint(j[i])\n",
    "    print()"
   ]
  },
  {
   "cell_type": "code",
   "execution_count": null,
   "metadata": {},
   "outputs": [],
   "source": []
  },
  {
   "cell_type": "code",
   "execution_count": 16,
   "metadata": {},
   "outputs": [
    {
     "data": {
      "text/plain": [
       "[{'goal': ['15', '15'],\n",
       "  'target': ['15.a', '15.b'],\n",
       "  'indicator': ['15.a.1', '15.b.1'],\n",
       "  'release': '2018.Q4.G.01',\n",
       "  'code': 'DC_ODA_BDVDL',\n",
       "  'description': 'Total official development assistance for biodiversity, by donor countries (millions of constant 2016 United States dollars)',\n",
       "  'uri': '/v1/sdg/Series/DC_ODA_BDVDL'},\n",
       " {'goal': ['3'],\n",
       "  'target': ['3.b'],\n",
       "  'indicator': ['3.b.2'],\n",
       "  'release': '2018.Q4.G.01',\n",
       "  'code': 'DC_TOF_HLTHNT',\n",
       "  'description': 'Total official development assistance to medical research and basic heath sectors, net disbursement, by recipient countries (millions of constant 2016 United States dollars)',\n",
       "  'uri': '/v1/sdg/Series/DC_TOF_HLTHNT'},\n",
       " {'goal': ['9'],\n",
       "  'target': ['9.a'],\n",
       "  'indicator': ['9.a.1'],\n",
       "  'release': '2018.Q4.G.01',\n",
       "  'code': 'DC_TOF_INFRAL',\n",
       "  'description': 'Total official flows for infrastructure, by recipient countries (millions of constant 2016 United States dollars)',\n",
       "  'uri': '/v1/sdg/Series/DC_TOF_INFRAL'},\n",
       " {'goal': ['4'],\n",
       "  'target': ['4.b'],\n",
       "  'indicator': ['4.b.1'],\n",
       "  'release': '2018.Q4.G.01',\n",
       "  'code': 'DC_TOF_SCHIPSL',\n",
       "  'description': 'Total official flows for scholarships, by recipient countries (millions of constant 2016 United States dollars)',\n",
       "  'uri': '/v1/sdg/Series/DC_TOF_SCHIPSL'},\n",
       " {'goal': ['8'],\n",
       "  'target': ['8.a'],\n",
       "  'indicator': ['8.a.1'],\n",
       "  'release': '2018.Q4.G.01',\n",
       "  'code': 'DC_TOF_TRDCMDL',\n",
       "  'description': 'Total official flows (commitments) for Aid for Trade, by donor countries (millions of constant 2016 United States dollars)',\n",
       "  'uri': '/v1/sdg/Series/DC_TOF_TRDCMDL'},\n",
       " {'goal': ['6'],\n",
       "  'target': ['6.a'],\n",
       "  'indicator': ['6.a.1'],\n",
       "  'release': '2018.Q4.G.01',\n",
       "  'code': 'DC_TOF_WASHL',\n",
       "  'description': 'Total official development assistance (gross disbursement) for water supply and sanitation, by recipient countries (millions of constant 2016 United States dollars)',\n",
       "  'uri': '/v1/sdg/Series/DC_TOF_WASHL'},\n",
       " {'goal': ['10'],\n",
       "  'target': ['10.b'],\n",
       "  'indicator': ['10.b.1'],\n",
       "  'release': '2018.Q4.G.01',\n",
       "  'code': 'DC_TRF_TOTDL',\n",
       "  'description': 'Total assistance for development, by donor countries (millions of current United States dollars)',\n",
       "  'uri': '/v1/sdg/Series/DC_TRF_TOTDL'},\n",
       " {'goal': ['17'],\n",
       "  'target': ['17.4'],\n",
       "  'indicator': ['17.4.1'],\n",
       "  'release': '2018.Q4.G.01',\n",
       "  'code': 'DT_TDS_DECT',\n",
       "  'description': 'Debt service as a proportion of exports of goods and services (%)',\n",
       "  'uri': '/v1/sdg/Series/DT_TDS_DECT'},\n",
       " {'goal': ['7'],\n",
       "  'target': ['7.1'],\n",
       "  'indicator': ['7.1.2'],\n",
       "  'release': '2018.Q4.G.01',\n",
       "  'code': 'EG_EGY_CLEAN',\n",
       "  'description': 'Proportion of population with primary reliance on clean fuels and technology (%)',\n",
       "  'uri': '/v1/sdg/Series/EG_EGY_CLEAN'},\n",
       " {'goal': ['9'],\n",
       "  'target': ['9.4'],\n",
       "  'indicator': ['9.4.1'],\n",
       "  'release': '2018.Q4.G.01',\n",
       "  'code': 'EN_ATM_CO2',\n",
       "  'description': 'Carbon dioxide emissions from fuel combustion (millions of tonnes)',\n",
       "  'uri': '/v1/sdg/Series/EN_ATM_CO2'}]"
      ]
     },
     "execution_count": 16,
     "metadata": {},
     "output_type": "execute_result"
    }
   ],
   "source": [
    "j[:10]"
   ]
  },
  {
   "cell_type": "code",
   "execution_count": null,
   "metadata": {},
   "outputs": [],
   "source": []
  },
  {
   "cell_type": "code",
   "execution_count": null,
   "metadata": {},
   "outputs": [],
   "source": []
  },
  {
   "cell_type": "code",
   "execution_count": 11,
   "metadata": {},
   "outputs": [],
   "source": [
    "csv_api = api_path(api_base, \"/SDGAPI\", \"/v1/sdg/Series/DataCSV\")"
   ]
  },
  {
   "cell_type": "code",
   "execution_count": 16,
   "metadata": {},
   "outputs": [],
   "source": [
    "csv = req.post(csv_api, data={'seriesCodes': \"EN_MAT_DOMCMPC\"})"
   ]
  },
  {
   "cell_type": "code",
   "execution_count": 17,
   "metadata": {},
   "outputs": [],
   "source": [
    "with open('../source/EN_MAT_DOMCMPC.csv', 'wb') as f:\n",
    "    for chunk in csv.iter_content():\n",
    "        f.write(chunk)\n",
    "    f.close()"
   ]
  },
  {
   "cell_type": "code",
   "execution_count": null,
   "metadata": {},
   "outputs": [],
   "source": []
  },
  {
   "cell_type": "code",
   "execution_count": null,
   "metadata": {},
   "outputs": [],
   "source": []
  },
  {
   "cell_type": "code",
   "execution_count": 26,
   "metadata": {},
   "outputs": [],
   "source": [
    "df = pd.read_csv('../source/DC_ODA_BDVDL.csv')"
   ]
  },
  {
   "cell_type": "code",
   "execution_count": 27,
   "metadata": {},
   "outputs": [
    {
     "data": {
      "text/plain": [
       "True"
      ]
     },
     "execution_count": 27,
     "metadata": {},
     "output_type": "execute_result"
    }
   ],
   "source": [
    "df.duplicated(subset=['GeoAreaCode', 'TimePeriod']).any()  #hmm.."
   ]
  },
  {
   "cell_type": "code",
   "execution_count": 19,
   "metadata": {},
   "outputs": [],
   "source": [
    "from tqdm import tqdm"
   ]
  },
  {
   "cell_type": "code",
   "execution_count": 22,
   "metadata": {},
   "outputs": [
    {
     "name": "stderr",
     "output_type": "stream",
     "text": [
      "100%|██████████| 355/355 [04:06<00:00,  1.44it/s] \n"
     ]
    }
   ],
   "source": [
    "for v in tqdm(j):\n",
    "    code = v['code']\n",
    "    \n",
    "    f = f'../source/{code}.csv'\n",
    "    try:\n",
    "        pd.read_csv(f)\n",
    "    except KeyboardInterrupt:\n",
    "        raise\n",
    "    except:\n",
    "        csv = req.post(csv_api, data={'seriesCodes': code})\n",
    "\n",
    "        with open(f'../source/{code}.csv', 'wb') as f:\n",
    "            for chunk in csv.iter_content():\n",
    "                f.write(chunk)\n",
    "            f.close()"
   ]
  },
  {
   "cell_type": "code",
   "execution_count": null,
   "metadata": {},
   "outputs": [],
   "source": []
  },
  {
   "cell_type": "code",
   "execution_count": null,
   "metadata": {},
   "outputs": [],
   "source": []
  }
 ],
 "metadata": {
  "kernelspec": {
   "display_name": "Python 3",
   "language": "python",
   "name": "python3"
  },
  "language_info": {
   "codemirror_mode": {
    "name": "ipython",
    "version": 3
   },
   "file_extension": ".py",
   "mimetype": "text/x-python",
   "name": "python",
   "nbconvert_exporter": "python",
   "pygments_lexer": "ipython3",
   "version": "3.6.2"
  }
 },
 "nbformat": 4,
 "nbformat_minor": 2
}
