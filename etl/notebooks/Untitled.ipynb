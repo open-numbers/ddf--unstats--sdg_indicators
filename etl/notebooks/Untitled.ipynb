{
 "cells": [
  {
   "cell_type": "code",
   "execution_count": 2,
   "metadata": {},
   "outputs": [
    {
     "name": "stdout",
     "output_type": "stream",
     "text": [
      "Mon Oct  1 10:48:45 CST 2018\r\n"
     ]
    }
   ],
   "source": [
    "!date"
   ]
  },
  {
   "cell_type": "code",
   "execution_count": 3,
   "metadata": {},
   "outputs": [],
   "source": [
    "import os\n",
    "import os.path as osp\n",
    "\n",
    "import requests as req\n",
    "import pandas as pd"
   ]
  },
  {
   "cell_type": "code",
   "execution_count": 4,
   "metadata": {},
   "outputs": [],
   "source": [
    "from urllib.parse import urljoin"
   ]
  },
  {
   "cell_type": "code",
   "execution_count": 5,
   "metadata": {},
   "outputs": [],
   "source": [
    "from pprint import pprint"
   ]
  },
  {
   "cell_type": "code",
   "execution_count": 6,
   "metadata": {},
   "outputs": [],
   "source": [
    "from io import BytesIO, StringIO"
   ]
  },
  {
   "cell_type": "code",
   "execution_count": 7,
   "metadata": {},
   "outputs": [],
   "source": [
    "import numpy as np"
   ]
  },
  {
   "cell_type": "code",
   "execution_count": 8,
   "metadata": {},
   "outputs": [],
   "source": [
    "np.random.seed(999)"
   ]
  },
  {
   "cell_type": "code",
   "execution_count": null,
   "metadata": {},
   "outputs": [],
   "source": []
  },
  {
   "cell_type": "code",
   "execution_count": 9,
   "metadata": {},
   "outputs": [],
   "source": [
    "def api_path(api_base, *args):\n",
    "    res = api_base\n",
    "    for arg in args:\n",
    "        if arg.startswith('/'):\n",
    "            res = osp.join(res, arg[1:])\n",
    "        else:\n",
    "            res = osp.join(res, arg)\n",
    "    return res"
   ]
  },
  {
   "cell_type": "code",
   "execution_count": 10,
   "metadata": {},
   "outputs": [],
   "source": [
    "api_base =  \"https://unstats.un.org\""
   ]
  },
  {
   "cell_type": "code",
   "execution_count": 11,
   "metadata": {},
   "outputs": [
    {
     "data": {
      "text/plain": [
       "'https://unstats.un.org/SDGAPI/v1/sdg/Series/List'"
      ]
     },
     "execution_count": 11,
     "metadata": {},
     "output_type": "execute_result"
    }
   ],
   "source": [
    "api_path(api_base, \"/SDGAPI\", \"/v1/sdg/Series/List\")"
   ]
  },
  {
   "cell_type": "code",
   "execution_count": 12,
   "metadata": {},
   "outputs": [],
   "source": [
    "j = req.get(api_path(api_base, \"/SDGAPI\", \"/v1/sdg/Series/List\"), params={'allreleases': False}).json()"
   ]
  },
  {
   "cell_type": "code",
   "execution_count": 13,
   "metadata": {},
   "outputs": [
    {
     "data": {
      "text/plain": [
       "355"
      ]
     },
     "execution_count": 13,
     "metadata": {},
     "output_type": "execute_result"
    }
   ],
   "source": [
    "len(j)"
   ]
  },
  {
   "cell_type": "code",
   "execution_count": 14,
   "metadata": {},
   "outputs": [],
   "source": [
    "_is = np.random.randint(0, len(j), size=10)"
   ]
  },
  {
   "cell_type": "code",
   "execution_count": 15,
   "metadata": {
    "scrolled": true
   },
   "outputs": [
    {
     "name": "stdout",
     "output_type": "stream",
     "text": [
      "{'code': 'EN_WBE_NDWTL',\n",
      " 'description': 'Nationally derived extent of wetlands (square kilometres)',\n",
      " 'goal': ['6'],\n",
      " 'indicator': ['6.6.1'],\n",
      " 'release': '2018.Q4.G.01',\n",
      " 'target': ['6.6'],\n",
      " 'uri': '/v1/sdg/Series/EN_WBE_NDWTL'}\n",
      "\n",
      "{'code': 'SI_COV_DISAB',\n",
      " 'description': 'Proportion of population with severe disabilities receiving '\n",
      "                'disability cash benefit (%)',\n",
      " 'goal': ['1'],\n",
      " 'indicator': ['1.3.1'],\n",
      " 'release': '2018.Q4.G.01',\n",
      " 'target': ['1.3'],\n",
      " 'uri': '/v1/sdg/Series/SI_COV_DISAB'}\n",
      "\n",
      "{'code': 'ER_PTD_MOTN',\n",
      " 'description': 'Average proportion of Mountain Key Biodiversity Areas (KBAs) '\n",
      "                'covered by protected areas (%)',\n",
      " 'goal': ['15'],\n",
      " 'indicator': ['15.4.1'],\n",
      " 'release': '2018.Q4.G.01',\n",
      " 'target': ['15.4'],\n",
      " 'uri': '/v1/sdg/Series/ER_PTD_MOTN'}\n",
      "\n",
      "{'code': 'VC_VAW_PHYPYV',\n",
      " 'description': 'Proportion of children aged 1-14 years who experienced '\n",
      "                'physical punishment and/or psychological aggression by '\n",
      "                'caregivers in last month (% of children aged 1-14 years)',\n",
      " 'goal': ['16'],\n",
      " 'indicator': ['16.2.1'],\n",
      " 'release': '2018.Q4.G.01',\n",
      " 'target': ['16.2'],\n",
      " 'uri': '/v1/sdg/Series/VC_VAW_PHYPYV'}\n",
      "\n",
      "{'code': 'ER_H2O_FISHOVEXP',\n",
      " 'description': 'Proportion of fish stocks that are overexploited (%)',\n",
      " 'goal': ['14'],\n",
      " 'indicator': ['14.4.1'],\n",
      " 'release': '2018.Q4.G.01',\n",
      " 'target': ['14.4'],\n",
      " 'uri': '/v1/sdg/Series/ER_H2O_FISHOVEXP'}\n",
      "\n",
      "{'code': 'ER_GRF_PLNTSTOR',\n",
      " 'description': 'Plant breeds for which sufficient genetic resources are '\n",
      "                'stored (number)',\n",
      " 'goal': ['2'],\n",
      " 'indicator': ['2.5.1'],\n",
      " 'release': '2018.Q4.G.01',\n",
      " 'target': ['2.5'],\n",
      " 'uri': '/v1/sdg/Series/ER_GRF_PLNTSTOR'}\n",
      "\n",
      "{'code': 'SH_STA_OVRWGTN',\n",
      " 'description': 'Children moderately or severely overweight (number)',\n",
      " 'goal': ['2'],\n",
      " 'indicator': ['2.2.2'],\n",
      " 'release': '2018.Q4.G.01',\n",
      " 'target': ['2.2'],\n",
      " 'uri': '/v1/sdg/Series/SH_STA_OVRWGTN'}\n",
      "\n",
      "{'code': 'SG_STT_NSDSIMPL',\n",
      " 'description': 'Countries with national statistical plans that are under '\n",
      "                'implementation (1 = YES; 0 = NO)',\n",
      " 'goal': ['17'],\n",
      " 'indicator': ['17.18.3'],\n",
      " 'release': '2018.Q4.G.01',\n",
      " 'target': ['17.18'],\n",
      " 'uri': '/v1/sdg/Series/SG_STT_NSDSIMPL'}\n",
      "\n",
      "{'code': 'ER_UNK_LBRED',\n",
      " 'description': 'Proportion of local breeds classified as being at unknown '\n",
      "                'level of risk of extinction (%)',\n",
      " 'goal': ['2'],\n",
      " 'indicator': ['2.5.2'],\n",
      " 'release': '2018.Q4.G.01',\n",
      " 'target': ['2.5'],\n",
      " 'uri': '/v1/sdg/Series/ER_UNK_LBRED'}\n",
      "\n",
      "{'code': 'IS_TRP_MAILTKM',\n",
      " 'description': 'Mail volume, by mode of transport (tonne kilometres)',\n",
      " 'goal': ['9'],\n",
      " 'indicator': ['9.1.2'],\n",
      " 'release': '2018.Q4.G.01',\n",
      " 'target': ['9.1'],\n",
      " 'uri': '/v1/sdg/Series/IS_TRP_MAILTKM'}\n",
      "\n"
     ]
    }
   ],
   "source": [
    "for i in _is:\n",
    "    pprint(j[i])\n",
    "    print()"
   ]
  },
  {
   "cell_type": "code",
   "execution_count": null,
   "metadata": {},
   "outputs": [],
   "source": []
  },
  {
   "cell_type": "code",
   "execution_count": 16,
   "metadata": {},
   "outputs": [
    {
     "data": {
      "text/plain": [
       "[{'goal': ['15', '15'],\n",
       "  'target': ['15.a', '15.b'],\n",
       "  'indicator': ['15.a.1', '15.b.1'],\n",
       "  'release': '2018.Q4.G.01',\n",
       "  'code': 'DC_ODA_BDVDL',\n",
       "  'description': 'Total official development assistance for biodiversity, by donor countries (millions of constant 2016 United States dollars)',\n",
       "  'uri': '/v1/sdg/Series/DC_ODA_BDVDL'},\n",
       " {'goal': ['3'],\n",
       "  'target': ['3.b'],\n",
       "  'indicator': ['3.b.2'],\n",
       "  'release': '2018.Q4.G.01',\n",
       "  'code': 'DC_TOF_HLTHNT',\n",
       "  'description': 'Total official development assistance to medical research and basic heath sectors, net disbursement, by recipient countries (millions of constant 2016 United States dollars)',\n",
       "  'uri': '/v1/sdg/Series/DC_TOF_HLTHNT'},\n",
       " {'goal': ['9'],\n",
       "  'target': ['9.a'],\n",
       "  'indicator': ['9.a.1'],\n",
       "  'release': '2018.Q4.G.01',\n",
       "  'code': 'DC_TOF_INFRAL',\n",
       "  'description': 'Total official flows for infrastructure, by recipient countries (millions of constant 2016 United States dollars)',\n",
       "  'uri': '/v1/sdg/Series/DC_TOF_INFRAL'},\n",
       " {'goal': ['4'],\n",
       "  'target': ['4.b'],\n",
       "  'indicator': ['4.b.1'],\n",
       "  'release': '2018.Q4.G.01',\n",
       "  'code': 'DC_TOF_SCHIPSL',\n",
       "  'description': 'Total official flows for scholarships, by recipient countries (millions of constant 2016 United States dollars)',\n",
       "  'uri': '/v1/sdg/Series/DC_TOF_SCHIPSL'},\n",
       " {'goal': ['8'],\n",
       "  'target': ['8.a'],\n",
       "  'indicator': ['8.a.1'],\n",
       "  'release': '2018.Q4.G.01',\n",
       "  'code': 'DC_TOF_TRDCMDL',\n",
       "  'description': 'Total official flows (commitments) for Aid for Trade, by donor countries (millions of constant 2016 United States dollars)',\n",
       "  'uri': '/v1/sdg/Series/DC_TOF_TRDCMDL'},\n",
       " {'goal': ['6'],\n",
       "  'target': ['6.a'],\n",
       "  'indicator': ['6.a.1'],\n",
       "  'release': '2018.Q4.G.01',\n",
       "  'code': 'DC_TOF_WASHL',\n",
       "  'description': 'Total official development assistance (gross disbursement) for water supply and sanitation, by recipient countries (millions of constant 2016 United States dollars)',\n",
       "  'uri': '/v1/sdg/Series/DC_TOF_WASHL'},\n",
       " {'goal': ['10'],\n",
       "  'target': ['10.b'],\n",
       "  'indicator': ['10.b.1'],\n",
       "  'release': '2018.Q4.G.01',\n",
       "  'code': 'DC_TRF_TOTDL',\n",
       "  'description': 'Total assistance for development, by donor countries (millions of current United States dollars)',\n",
       "  'uri': '/v1/sdg/Series/DC_TRF_TOTDL'},\n",
       " {'goal': ['17'],\n",
       "  'target': ['17.4'],\n",
       "  'indicator': ['17.4.1'],\n",
       "  'release': '2018.Q4.G.01',\n",
       "  'code': 'DT_TDS_DECT',\n",
       "  'description': 'Debt service as a proportion of exports of goods and services (%)',\n",
       "  'uri': '/v1/sdg/Series/DT_TDS_DECT'},\n",
       " {'goal': ['7'],\n",
       "  'target': ['7.1'],\n",
       "  'indicator': ['7.1.2'],\n",
       "  'release': '2018.Q4.G.01',\n",
       "  'code': 'EG_EGY_CLEAN',\n",
       "  'description': 'Proportion of population with primary reliance on clean fuels and technology (%)',\n",
       "  'uri': '/v1/sdg/Series/EG_EGY_CLEAN'},\n",
       " {'goal': ['9'],\n",
       "  'target': ['9.4'],\n",
       "  'indicator': ['9.4.1'],\n",
       "  'release': '2018.Q4.G.01',\n",
       "  'code': 'EN_ATM_CO2',\n",
       "  'description': 'Carbon dioxide emissions from fuel combustion (millions of tonnes)',\n",
       "  'uri': '/v1/sdg/Series/EN_ATM_CO2'}]"
      ]
     },
     "execution_count": 16,
     "metadata": {},
     "output_type": "execute_result"
    }
   ],
   "source": [
    "j[:10]"
   ]
  },
  {
   "cell_type": "code",
   "execution_count": null,
   "metadata": {},
   "outputs": [],
   "source": []
  },
  {
   "cell_type": "code",
   "execution_count": null,
   "metadata": {},
   "outputs": [],
   "source": []
  },
  {
   "cell_type": "code",
   "execution_count": 18,
   "metadata": {},
   "outputs": [],
   "source": [
    "csv_api = api_path(api_base, \"/SDGAPI\", \"/v1/sdg/Series/DataCSV\")"
   ]
  },
  {
   "cell_type": "code",
   "execution_count": 23,
   "metadata": {},
   "outputs": [],
   "source": [
    "csv = req.post(csv_api, data={'seriesCodes': \"DC_ODA_BDVDL\"}, stream=True)"
   ]
  },
  {
   "cell_type": "code",
   "execution_count": 24,
   "metadata": {},
   "outputs": [],
   "source": [
    "with open('../source/DC_ODA_BDVDL.csv', 'wb') as f:\n",
    "    for chunk in csv.iter_content():\n",
    "        f.write(chunk)\n",
    "    f.close()"
   ]
  },
  {
   "cell_type": "code",
   "execution_count": null,
   "metadata": {},
   "outputs": [],
   "source": []
  },
  {
   "cell_type": "code",
   "execution_count": null,
   "metadata": {},
   "outputs": [],
   "source": []
  },
  {
   "cell_type": "code",
   "execution_count": 26,
   "metadata": {},
   "outputs": [],
   "source": [
    "df = pd.read_csv('../source/DC_ODA_BDVDL.csv')"
   ]
  },
  {
   "cell_type": "code",
   "execution_count": 27,
   "metadata": {},
   "outputs": [
    {
     "data": {
      "text/plain": [
       "True"
      ]
     },
     "execution_count": 27,
     "metadata": {},
     "output_type": "execute_result"
    }
   ],
   "source": [
    "df.duplicated(subset=['GeoAreaCode', 'TimePeriod']).any()  #hmm.."
   ]
  },
  {
   "cell_type": "code",
   "execution_count": 28,
   "metadata": {},
   "outputs": [],
   "source": [
    "from tqdm import tqdm"
   ]
  },
  {
   "cell_type": "code",
   "execution_count": 29,
   "metadata": {},
   "outputs": [
    {
     "name": "stderr",
     "output_type": "stream",
     "text": [
      "100%|██████████| 355/355 [12:42:48<00:00, 128.93s/it]  \n"
     ]
    }
   ],
   "source": [
    "for v in tqdm(j):\n",
    "    code = v['code']\n",
    "    csv = req.post(csv_api, data={'seriesCodes': code}, stream=True)\n",
    "    \n",
    "    with open(f'../source/{code}.csv', 'wb') as f:\n",
    "        for chunk in csv.iter_content():\n",
    "            f.write(chunk)\n",
    "        f.close()"
   ]
  },
  {
   "cell_type": "code",
   "execution_count": null,
   "metadata": {},
   "outputs": [],
   "source": []
  },
  {
   "cell_type": "code",
   "execution_count": 39,
   "metadata": {},
   "outputs": [],
   "source": [
    "df = pd.read_csv('../source/DC_ODA_BDVDL.csv')"
   ]
  },
  {
   "cell_type": "code",
   "execution_count": 40,
   "metadata": {},
   "outputs": [
    {
     "data": {
      "text/html": [
       "<div>\n",
       "<style scoped>\n",
       "    .dataframe tbody tr th:only-of-type {\n",
       "        vertical-align: middle;\n",
       "    }\n",
       "\n",
       "    .dataframe tbody tr th {\n",
       "        vertical-align: top;\n",
       "    }\n",
       "\n",
       "    .dataframe thead th {\n",
       "        text-align: right;\n",
       "    }\n",
       "</style>\n",
       "<table border=\"1\" class=\"dataframe\">\n",
       "  <thead>\n",
       "    <tr style=\"text-align: right;\">\n",
       "      <th></th>\n",
       "      <th>Goal</th>\n",
       "      <th>Target</th>\n",
       "      <th>Indicator</th>\n",
       "      <th>SeriesCode</th>\n",
       "      <th>SeriesDescription</th>\n",
       "      <th>GeoAreaCode</th>\n",
       "      <th>GeoAreaName</th>\n",
       "      <th>TimePeriod</th>\n",
       "      <th>Value</th>\n",
       "      <th>Time_Detail</th>\n",
       "      <th>Source</th>\n",
       "      <th>FootNote</th>\n",
       "      <th>Nature</th>\n",
       "      <th>Units</th>\n",
       "      <th>[Reporting Type]</th>\n",
       "    </tr>\n",
       "  </thead>\n",
       "  <tbody>\n",
       "    <tr>\n",
       "      <th>0</th>\n",
       "      <td>15.0</td>\n",
       "      <td>15.a</td>\n",
       "      <td>15.a.1</td>\n",
       "      <td>DC_ODA_BDVDL</td>\n",
       "      <td>Total official development assistance for biod...</td>\n",
       "      <td>36.0</td>\n",
       "      <td>Australia</td>\n",
       "      <td>2002.0</td>\n",
       "      <td>11.78529</td>\n",
       "      <td>2002.0</td>\n",
       "      <td>Creditor Reporting System (CRS) database, 2018...</td>\n",
       "      <td>Commitments; Based on OECD, CRS databased, 201...</td>\n",
       "      <td>NaN</td>\n",
       "      <td>CON_USD</td>\n",
       "      <td>G</td>\n",
       "    </tr>\n",
       "    <tr>\n",
       "      <th>1</th>\n",
       "      <td>15.0</td>\n",
       "      <td>15.a</td>\n",
       "      <td>15.a.1</td>\n",
       "      <td>DC_ODA_BDVDL</td>\n",
       "      <td>Total official development assistance for biod...</td>\n",
       "      <td>36.0</td>\n",
       "      <td>Australia</td>\n",
       "      <td>2003.0</td>\n",
       "      <td>0.55788</td>\n",
       "      <td>2003.0</td>\n",
       "      <td>Creditor Reporting System (CRS) database, 2018...</td>\n",
       "      <td>Commitments; Based on OECD, CRS databased, 201...</td>\n",
       "      <td>NaN</td>\n",
       "      <td>CON_USD</td>\n",
       "      <td>G</td>\n",
       "    </tr>\n",
       "    <tr>\n",
       "      <th>2</th>\n",
       "      <td>15.0</td>\n",
       "      <td>15.a</td>\n",
       "      <td>15.a.1</td>\n",
       "      <td>DC_ODA_BDVDL</td>\n",
       "      <td>Total official development assistance for biod...</td>\n",
       "      <td>36.0</td>\n",
       "      <td>Australia</td>\n",
       "      <td>2004.0</td>\n",
       "      <td>0.84451</td>\n",
       "      <td>2004.0</td>\n",
       "      <td>Creditor Reporting System (CRS) database, 2018...</td>\n",
       "      <td>Commitments; Based on OECD, CRS databased, 201...</td>\n",
       "      <td>NaN</td>\n",
       "      <td>CON_USD</td>\n",
       "      <td>G</td>\n",
       "    </tr>\n",
       "    <tr>\n",
       "      <th>3</th>\n",
       "      <td>15.0</td>\n",
       "      <td>15.a</td>\n",
       "      <td>15.a.1</td>\n",
       "      <td>DC_ODA_BDVDL</td>\n",
       "      <td>Total official development assistance for biod...</td>\n",
       "      <td>36.0</td>\n",
       "      <td>Australia</td>\n",
       "      <td>2005.0</td>\n",
       "      <td>15.32823</td>\n",
       "      <td>2005.0</td>\n",
       "      <td>Creditor Reporting System (CRS) database, 2018...</td>\n",
       "      <td>Commitments; Based on OECD, CRS databased, 201...</td>\n",
       "      <td>NaN</td>\n",
       "      <td>CON_USD</td>\n",
       "      <td>G</td>\n",
       "    </tr>\n",
       "    <tr>\n",
       "      <th>4</th>\n",
       "      <td>15.0</td>\n",
       "      <td>15.a</td>\n",
       "      <td>15.a.1</td>\n",
       "      <td>DC_ODA_BDVDL</td>\n",
       "      <td>Total official development assistance for biod...</td>\n",
       "      <td>36.0</td>\n",
       "      <td>Australia</td>\n",
       "      <td>2006.0</td>\n",
       "      <td>66.93870</td>\n",
       "      <td>2006.0</td>\n",
       "      <td>Creditor Reporting System (CRS) database, 2018...</td>\n",
       "      <td>Commitments; Based on OECD, CRS databased, 201...</td>\n",
       "      <td>NaN</td>\n",
       "      <td>CON_USD</td>\n",
       "      <td>G</td>\n",
       "    </tr>\n",
       "  </tbody>\n",
       "</table>\n",
       "</div>"
      ],
      "text/plain": [
       "   Goal Target Indicator    SeriesCode  \\\n",
       "0  15.0   15.a    15.a.1  DC_ODA_BDVDL   \n",
       "1  15.0   15.a    15.a.1  DC_ODA_BDVDL   \n",
       "2  15.0   15.a    15.a.1  DC_ODA_BDVDL   \n",
       "3  15.0   15.a    15.a.1  DC_ODA_BDVDL   \n",
       "4  15.0   15.a    15.a.1  DC_ODA_BDVDL   \n",
       "\n",
       "                                   SeriesDescription  GeoAreaCode GeoAreaName  \\\n",
       "0  Total official development assistance for biod...         36.0   Australia   \n",
       "1  Total official development assistance for biod...         36.0   Australia   \n",
       "2  Total official development assistance for biod...         36.0   Australia   \n",
       "3  Total official development assistance for biod...         36.0   Australia   \n",
       "4  Total official development assistance for biod...         36.0   Australia   \n",
       "\n",
       "   TimePeriod     Value  Time_Detail  \\\n",
       "0      2002.0  11.78529       2002.0   \n",
       "1      2003.0   0.55788       2003.0   \n",
       "2      2004.0   0.84451       2004.0   \n",
       "3      2005.0  15.32823       2005.0   \n",
       "4      2006.0  66.93870       2006.0   \n",
       "\n",
       "                                              Source  \\\n",
       "0  Creditor Reporting System (CRS) database, 2018...   \n",
       "1  Creditor Reporting System (CRS) database, 2018...   \n",
       "2  Creditor Reporting System (CRS) database, 2018...   \n",
       "3  Creditor Reporting System (CRS) database, 2018...   \n",
       "4  Creditor Reporting System (CRS) database, 2018...   \n",
       "\n",
       "                                            FootNote  Nature    Units  \\\n",
       "0  Commitments; Based on OECD, CRS databased, 201...     NaN  CON_USD   \n",
       "1  Commitments; Based on OECD, CRS databased, 201...     NaN  CON_USD   \n",
       "2  Commitments; Based on OECD, CRS databased, 201...     NaN  CON_USD   \n",
       "3  Commitments; Based on OECD, CRS databased, 201...     NaN  CON_USD   \n",
       "4  Commitments; Based on OECD, CRS databased, 201...     NaN  CON_USD   \n",
       "\n",
       "  [Reporting Type]  \n",
       "0                G  \n",
       "1                G  \n",
       "2                G  \n",
       "3                G  \n",
       "4                G  "
      ]
     },
     "execution_count": 40,
     "metadata": {},
     "output_type": "execute_result"
    }
   ],
   "source": [
    "df.head()"
   ]
  },
  {
   "cell_type": "code",
   "execution_count": 41,
   "metadata": {},
   "outputs": [
    {
     "data": {
      "text/plain": [
       "array(['15.a.1', '15.b.1', nan], dtype=object)"
      ]
     },
     "execution_count": 41,
     "metadata": {},
     "output_type": "execute_result"
    }
   ],
   "source": [
    "df['Indicator'].unique()"
   ]
  },
  {
   "cell_type": "code",
   "execution_count": 42,
   "metadata": {},
   "outputs": [],
   "source": [
    "df = df.dropna(how='all')"
   ]
  },
  {
   "cell_type": "code",
   "execution_count": 43,
   "metadata": {},
   "outputs": [
    {
     "data": {
      "text/plain": [
       "array(['15.a.1', '15.b.1'], dtype=object)"
      ]
     },
     "execution_count": 43,
     "metadata": {},
     "output_type": "execute_result"
    }
   ],
   "source": [
    "df['Indicator'].unique()"
   ]
  },
  {
   "cell_type": "code",
   "execution_count": null,
   "metadata": {},
   "outputs": [],
   "source": []
  },
  {
   "cell_type": "code",
   "execution_count": 46,
   "metadata": {},
   "outputs": [
    {
     "data": {
      "text/plain": [
       "array([2002., 2003., 2004., 2005., 2006., 2007., 2008., 2009., 2010.,\n",
       "       2011., 2012., 2013., 2014., 2015., 2016.])"
      ]
     },
     "execution_count": 46,
     "metadata": {},
     "output_type": "execute_result"
    }
   ],
   "source": [
    "df['TimePeriod'].unique()"
   ]
  },
  {
   "cell_type": "code",
   "execution_count": 47,
   "metadata": {},
   "outputs": [
    {
     "data": {
      "text/plain": [
       "array([2002., 2003., 2004., 2005., 2006., 2007., 2008., 2009., 2010.,\n",
       "       2011., 2012., 2013., 2014., 2015., 2016.])"
      ]
     },
     "execution_count": 47,
     "metadata": {},
     "output_type": "execute_result"
    }
   ],
   "source": [
    "df['Time_Detail'].unique()"
   ]
  },
  {
   "cell_type": "code",
   "execution_count": 49,
   "metadata": {},
   "outputs": [
    {
     "data": {
      "text/plain": [
       "True"
      ]
     },
     "execution_count": 49,
     "metadata": {},
     "output_type": "execute_result"
    }
   ],
   "source": [
    "(df['TimePeriod'] == df['Time_Detail']).all()"
   ]
  },
  {
   "cell_type": "code",
   "execution_count": null,
   "metadata": {},
   "outputs": [],
   "source": []
  },
  {
   "cell_type": "code",
   "execution_count": null,
   "metadata": {},
   "outputs": [],
   "source": []
  },
  {
   "cell_type": "code",
   "execution_count": 45,
   "metadata": {},
   "outputs": [
    {
     "data": {
      "text/plain": [
       "True"
      ]
     },
     "execution_count": 45,
     "metadata": {},
     "output_type": "execute_result"
    }
   ],
   "source": [
    "df.duplicated(subset=['GeoAreaCode', 'TimePeriod']).any()"
   ]
  },
  {
   "cell_type": "code",
   "execution_count": 50,
   "metadata": {},
   "outputs": [],
   "source": [
    "# why there are duplicates"
   ]
  },
  {
   "cell_type": "code",
   "execution_count": 53,
   "metadata": {},
   "outputs": [
    {
     "data": {
      "text/plain": [
       "0      False\n",
       "1      False\n",
       "2      False\n",
       "3      False\n",
       "4      False\n",
       "5      False\n",
       "6      False\n",
       "7      False\n",
       "8      False\n",
       "9      False\n",
       "10     False\n",
       "11     False\n",
       "12     False\n",
       "13     False\n",
       "14     False\n",
       "15     False\n",
       "16     False\n",
       "17     False\n",
       "18     False\n",
       "19     False\n",
       "20     False\n",
       "21     False\n",
       "22     False\n",
       "23     False\n",
       "24     False\n",
       "25     False\n",
       "26     False\n",
       "27     False\n",
       "28     False\n",
       "29     False\n",
       "       ...  \n",
       "670     True\n",
       "671     True\n",
       "672     True\n",
       "673     True\n",
       "674     True\n",
       "675     True\n",
       "676     True\n",
       "677     True\n",
       "678     True\n",
       "679     True\n",
       "680     True\n",
       "681     True\n",
       "682     True\n",
       "683     True\n",
       "684     True\n",
       "685     True\n",
       "686     True\n",
       "687     True\n",
       "688     True\n",
       "689     True\n",
       "690     True\n",
       "691     True\n",
       "692     True\n",
       "693     True\n",
       "694     True\n",
       "695     True\n",
       "696     True\n",
       "697     True\n",
       "698     True\n",
       "699     True\n",
       "Length: 700, dtype: bool"
      ]
     },
     "execution_count": 53,
     "metadata": {},
     "output_type": "execute_result"
    }
   ],
   "source": [
    "df.duplicated(subset=['GeoAreaCode', 'TimePeriod'])"
   ]
  },
  {
   "cell_type": "code",
   "execution_count": 54,
   "metadata": {},
   "outputs": [
    {
     "data": {
      "text/plain": [
       "Goal                                                                15\n",
       "Target                                                            15.b\n",
       "Indicator                                                       15.b.1\n",
       "SeriesCode                                                DC_ODA_BDVDL\n",
       "SeriesDescription    Total official development assistance for biod...\n",
       "GeoAreaCode                                                        756\n",
       "GeoAreaName                                                Switzerland\n",
       "TimePeriod                                                        2016\n",
       "Value                                                          119.813\n",
       "Time_Detail                                                       2016\n",
       "Source               Creditor Reporting System (CRS) database, 2018...\n",
       "FootNote             Commitments; Based on OECD, CRS databased, 201...\n",
       "Nature                                                             NaN\n",
       "Units                                                          CON_USD\n",
       "[Reporting Type]                                                     G\n",
       "Name: 670, dtype: object"
      ]
     },
     "execution_count": 54,
     "metadata": {},
     "output_type": "execute_result"
    }
   ],
   "source": [
    "df.loc[670]"
   ]
  },
  {
   "cell_type": "code",
   "execution_count": 55,
   "metadata": {},
   "outputs": [
    {
     "data": {
      "text/html": [
       "<div>\n",
       "<style scoped>\n",
       "    .dataframe tbody tr th:only-of-type {\n",
       "        vertical-align: middle;\n",
       "    }\n",
       "\n",
       "    .dataframe tbody tr th {\n",
       "        vertical-align: top;\n",
       "    }\n",
       "\n",
       "    .dataframe thead th {\n",
       "        text-align: right;\n",
       "    }\n",
       "</style>\n",
       "<table border=\"1\" class=\"dataframe\">\n",
       "  <thead>\n",
       "    <tr style=\"text-align: right;\">\n",
       "      <th></th>\n",
       "      <th>Goal</th>\n",
       "      <th>Target</th>\n",
       "      <th>Indicator</th>\n",
       "      <th>SeriesCode</th>\n",
       "      <th>SeriesDescription</th>\n",
       "      <th>GeoAreaCode</th>\n",
       "      <th>GeoAreaName</th>\n",
       "      <th>TimePeriod</th>\n",
       "      <th>Value</th>\n",
       "      <th>Time_Detail</th>\n",
       "      <th>Source</th>\n",
       "      <th>FootNote</th>\n",
       "      <th>Nature</th>\n",
       "      <th>Units</th>\n",
       "      <th>[Reporting Type]</th>\n",
       "    </tr>\n",
       "  </thead>\n",
       "  <tbody>\n",
       "    <tr>\n",
       "      <th>404</th>\n",
       "      <td>15.0</td>\n",
       "      <td>15.a</td>\n",
       "      <td>15.a.1</td>\n",
       "      <td>DC_ODA_BDVDL</td>\n",
       "      <td>Total official development assistance for biod...</td>\n",
       "      <td>756.0</td>\n",
       "      <td>Switzerland</td>\n",
       "      <td>2016.0</td>\n",
       "      <td>119.81321</td>\n",
       "      <td>2016.0</td>\n",
       "      <td>Creditor Reporting System (CRS) database, 2018...</td>\n",
       "      <td>Commitments; Based on OECD, CRS databased, 201...</td>\n",
       "      <td>NaN</td>\n",
       "      <td>CON_USD</td>\n",
       "      <td>G</td>\n",
       "    </tr>\n",
       "    <tr>\n",
       "      <th>670</th>\n",
       "      <td>15.0</td>\n",
       "      <td>15.b</td>\n",
       "      <td>15.b.1</td>\n",
       "      <td>DC_ODA_BDVDL</td>\n",
       "      <td>Total official development assistance for biod...</td>\n",
       "      <td>756.0</td>\n",
       "      <td>Switzerland</td>\n",
       "      <td>2016.0</td>\n",
       "      <td>119.81321</td>\n",
       "      <td>2016.0</td>\n",
       "      <td>Creditor Reporting System (CRS) database, 2018...</td>\n",
       "      <td>Commitments; Based on OECD, CRS databased, 201...</td>\n",
       "      <td>NaN</td>\n",
       "      <td>CON_USD</td>\n",
       "      <td>G</td>\n",
       "    </tr>\n",
       "  </tbody>\n",
       "</table>\n",
       "</div>"
      ],
      "text/plain": [
       "     Goal Target Indicator    SeriesCode  \\\n",
       "404  15.0   15.a    15.a.1  DC_ODA_BDVDL   \n",
       "670  15.0   15.b    15.b.1  DC_ODA_BDVDL   \n",
       "\n",
       "                                     SeriesDescription  GeoAreaCode  \\\n",
       "404  Total official development assistance for biod...        756.0   \n",
       "670  Total official development assistance for biod...        756.0   \n",
       "\n",
       "     GeoAreaName  TimePeriod      Value  Time_Detail  \\\n",
       "404  Switzerland      2016.0  119.81321       2016.0   \n",
       "670  Switzerland      2016.0  119.81321       2016.0   \n",
       "\n",
       "                                                Source  \\\n",
       "404  Creditor Reporting System (CRS) database, 2018...   \n",
       "670  Creditor Reporting System (CRS) database, 2018...   \n",
       "\n",
       "                                              FootNote  Nature    Units  \\\n",
       "404  Commitments; Based on OECD, CRS databased, 201...     NaN  CON_USD   \n",
       "670  Commitments; Based on OECD, CRS databased, 201...     NaN  CON_USD   \n",
       "\n",
       "    [Reporting Type]  \n",
       "404                G  \n",
       "670                G  "
      ]
     },
     "execution_count": 55,
     "metadata": {},
     "output_type": "execute_result"
    }
   ],
   "source": [
    "df[(df.GeoAreaName == \"Switzerland\") & (df.TimePeriod == 2016)]"
   ]
  },
  {
   "cell_type": "code",
   "execution_count": 57,
   "metadata": {},
   "outputs": [
    {
     "data": {
      "text/plain": [
       "Goal                  True\n",
       "Target               False\n",
       "Indicator            False\n",
       "SeriesCode            True\n",
       "SeriesDescription     True\n",
       "GeoAreaCode           True\n",
       "GeoAreaName           True\n",
       "TimePeriod            True\n",
       "Value                 True\n",
       "Time_Detail           True\n",
       "Source                True\n",
       "FootNote              True\n",
       "Nature               False\n",
       "Units                 True\n",
       "[Reporting Type]      True\n",
       "dtype: bool"
      ]
     },
     "execution_count": 57,
     "metadata": {},
     "output_type": "execute_result"
    }
   ],
   "source": [
    "df.loc[404] == df.loc[670]"
   ]
  },
  {
   "cell_type": "code",
   "execution_count": null,
   "metadata": {},
   "outputs": [],
   "source": []
  }
 ],
 "metadata": {
  "kernelspec": {
   "display_name": "Python 3",
   "language": "python",
   "name": "python3"
  },
  "language_info": {
   "codemirror_mode": {
    "name": "ipython",
    "version": 3
   },
   "file_extension": ".py",
   "mimetype": "text/x-python",
   "name": "python",
   "nbconvert_exporter": "python",
   "pygments_lexer": "ipython3",
   "version": "3.6.5"
  }
 },
 "nbformat": 4,
 "nbformat_minor": 2
}
